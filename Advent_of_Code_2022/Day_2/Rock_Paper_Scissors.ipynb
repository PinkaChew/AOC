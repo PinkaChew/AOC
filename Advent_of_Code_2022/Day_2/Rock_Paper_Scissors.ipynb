{
 "cells": [
  {
   "cell_type": "code",
   "execution_count": 37,
   "id": "2af3d27d",
   "metadata": {},
   "outputs": [
    {
     "name": "stdout",
     "output_type": "stream",
     "text": [
      "/Users/leot/Desktop/Leo Python/Advent_of_Code_2022/Day_2\n",
      "/Users/leot/Desktop/Leo Python/Advent_of_Code_2022/Day_2/input.txt\n",
      "9177\n"
     ]
    }
   ],
   "source": [
    "#importing the os module\n",
    "import os\n",
    "\n",
    "#to get the current working directory\n",
    "directory = os.getcwd()\n",
    "\n",
    "print(directory)\n",
    "\n",
    "filepath = directory+\"/input.txt\"\n",
    "print(filepath)\n",
    "\n",
    "#filepath is just the path + name\n",
    "thefile=open(filepath)\n",
    "#throw the raw format into variable rawdata\n",
    "rawdata=thefile.read()\n",
    "#split by \"\\n\", which stands for new line\n",
    "datafromfile = rawdata.split(\"\\n\")\n",
    "\n",
    "maxlength=len(datafromfile)\n",
    "\n",
    "x=0\n",
    "y=0\n",
    "total_score = 0\n",
    "#start of loop\n",
    "while x < maxlength:\n",
    "    #print(datafromfile[x])\n",
    "    #calculate score purely on rock paper or scissors selection\n",
    "    if datafromfile[x][2]==\"X\":\n",
    "        total_score += 1\n",
    "    elif datafromfile[x][2]==\"Y\":\n",
    "        total_score += 2\n",
    "    elif datafromfile[x][2]==\"Z\":\n",
    "        total_score += 3\n",
    "        \n",
    "    #calculate score based on win lose or draw\n",
    "    #for win conditions\n",
    "    if (datafromfile[x][0] == \"A\" and datafromfile[x][2] == \"Y\"):\n",
    "        total_score += 6\n",
    "    elif (datafromfile[x][0] == \"B\" and datafromfile[x][2] == \"Z\"):\n",
    "        total_score += 6\n",
    "    elif (datafromfile[x][0] == \"C\" and datafromfile[x][2] == \"X\"):\n",
    "        total_score += 6\n",
    "        \n",
    "    #calculate draw\n",
    "    if (datafromfile[x][0] == \"A\" and datafromfile[x][2] == \"X\"):\n",
    "        total_score += 3\n",
    "    elif (datafromfile[x][0] == \"B\" and datafromfile[x][2] == \"Y\"):\n",
    "        total_score += 3\n",
    "    elif (datafromfile[x][0] == \"C\" and datafromfile[x][2] == \"Z\"):\n",
    "        total_score += 3\n",
    "    #all others should only be loss... or errors. don't do anything then?\n",
    "    \n",
    "    x=x+1\n",
    "    #end of loop\n",
    "print(total_score)\n",
    "#print(datafromfile[0])\n",
    "#print(maxlength)\n"
   ]
  },
  {
   "cell_type": "code",
   "execution_count": null,
   "id": "aed65f12",
   "metadata": {},
   "outputs": [],
   "source": []
  }
 ],
 "metadata": {
  "kernelspec": {
   "display_name": "Python 3",
   "language": "python",
   "name": "python3"
  },
  "language_info": {
   "codemirror_mode": {
    "name": "ipython",
    "version": 3
   },
   "file_extension": ".py",
   "mimetype": "text/x-python",
   "name": "python",
   "nbconvert_exporter": "python",
   "pygments_lexer": "ipython3",
   "version": "3.8.8"
  }
 },
 "nbformat": 4,
 "nbformat_minor": 5
}
