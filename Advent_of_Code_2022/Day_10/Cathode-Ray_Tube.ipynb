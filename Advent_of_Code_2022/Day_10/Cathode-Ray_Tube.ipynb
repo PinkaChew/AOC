{
 "cells": [
  {
   "cell_type": "code",
   "execution_count": 16,
   "id": "2af3d27d",
   "metadata": {},
   "outputs": [
    {
     "name": "stdout",
     "output_type": "stream",
     "text": [
      "/Users/leot/Desktop/Leo Python/Advent_of_Code_2022/Day_10\n",
      "/Users/leot/Desktop/Leo Python/Advent_of_Code_2022/Day_10/input.txt\n",
      "counter*x is now 20*21\n",
      "signal_strength is now 420\n",
      "counter*x is now 60*21\n",
      "signal_strength is now 1680\n",
      "counter*x is now 100*40\n",
      "signal_strength is now 5680\n",
      "counter*x is now 140*21\n",
      "signal_strength is now 8620\n",
      "counter*x is now 180*21\n",
      "signal_strength is now 12400\n",
      "counter*x is now 220*21\n",
      "signal_strength is now 17020\n"
     ]
    }
   ],
   "source": [
    "#importing the os module\n",
    "import os\n",
    "\n",
    "#to get the current working directory\n",
    "directory = os.getcwd()\n",
    "\n",
    "print(directory)\n",
    "\n",
    "filepath = directory+\"/input.txt\"\n",
    "print(filepath)\n",
    "\n",
    "#filepath is just the path + name\n",
    "thefile=open(filepath)\n",
    "#throw the raw format into variable rawdata\n",
    "rawdata=thefile.read()\n",
    "#split by \"\\n\", which stands for new line\n",
    "datafromfile = rawdata.split(\"\\n\")\n",
    "\n",
    "counter = 0\n",
    "signal_sum = 0\n",
    "\n",
    "def checkstrength():\n",
    "    global counter\n",
    "    if counter == 20 or counter == 60 or counter == 100 or counter == 140 or counter == 180 or counter == 220:\n",
    "        global signal_sum\n",
    "        global x\n",
    "        signal_sum += (x*counter)\n",
    "        print(f\"counter*x is now {counter}*{x}\")\n",
    "        print(f\"signal_strength is now {signal_sum}\")\n",
    "    else:\n",
    "        return\n",
    "\n",
    "def addx(v):\n",
    "    global counter\n",
    "    global x\n",
    "    counter += 1\n",
    "    checkstrength()\n",
    "    counter += 1\n",
    "    checkstrength()\n",
    "    x += v\n",
    "    \n",
    "    \n",
    "def noop():\n",
    "    global counter\n",
    "    counter += 1\n",
    "    checkstrength()\n",
    "    \n",
    "z=0\n",
    "x=1\n",
    "while z<len(datafromfile):\n",
    "    if datafromfile[z][0:4] == \"addx\":\n",
    "        addx(int(datafromfile[z][5:]))\n",
    "    elif datafromfile[z][0:4] == \"noop\":\n",
    "        noop()\n",
    "    z += 1\n",
    "\n"
   ]
  },
  {
   "cell_type": "code",
   "execution_count": null,
   "id": "4a80673b",
   "metadata": {},
   "outputs": [],
   "source": []
  }
 ],
 "metadata": {
  "kernelspec": {
   "display_name": "Python 3",
   "language": "python",
   "name": "python3"
  },
  "language_info": {
   "codemirror_mode": {
    "name": "ipython",
    "version": 3
   },
   "file_extension": ".py",
   "mimetype": "text/x-python",
   "name": "python",
   "nbconvert_exporter": "python",
   "pygments_lexer": "ipython3",
   "version": "3.8.8"
  }
 },
 "nbformat": 4,
 "nbformat_minor": 5
}
